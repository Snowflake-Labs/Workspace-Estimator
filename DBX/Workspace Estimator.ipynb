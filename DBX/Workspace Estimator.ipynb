{
 "cells": [
  {
   "cell_type": "markdown",
   "metadata": {
    "application/vnd.databricks.v1+cell": {
     "cellMetadata": {
      "byteLimit": 2048000,
      "rowLimit": 10000
     },
     "inputWidgets": {},
     "nuid": "14fb9227-a269-47a2-a7ff-d82f82d5cfb6",
     "showTitle": false,
     "tableResultSettingsMap": {},
     "title": ""
    }
   },
   "source": [
    "#Workspace Estimator\n",
    "\n",
    "To understand your current workload in Databricks, we need to gather some basic information that includes:\n",
    "- Jobs, average monthly running frequency, average running time steps.\n",
    "- Tasks within each job, notebooks of each step.\n",
    "- Job Categories: Data Engineering, Machine Learning, or Streaming.\n",
    "- Cluster information [Size, type]\n",
    "\n",
    "\\*All this information will be generated using Databrick Python API, and it will rest in your account for your perusal after that, if you agree, we will provide the steps to share that information with us."
   ]
  },
  {
   "cell_type": "markdown",
   "metadata": {
    "application/vnd.databricks.v1+cell": {
     "cellMetadata": {
      "byteLimit": 2048000,
      "rowLimit": 10000
     },
     "collapsed": true,
     "inputWidgets": {},
     "nuid": "17d869b2-e741-4f46-bc4b-0a3aaec96ef9",
     "showTitle": false,
     "tableResultSettingsMap": {},
     "title": ""
    }
   },
   "source": [
    "## Requirements\n",
    "1. Databricks Host (should begin with https://). <br> \n",
    "example: https://demo.cloud.databricks.com <br>\n",
    "for more details visit [workspace details](https://docs.databricks.com/workspace/workspace-details.html)\n",
    "2. token. For more details [Databricks Authentication](https://docs.databricks.com/dev-tools/api/latest/authentication.html)\n",
    "\n",
    "### Permissions\n",
    "The workspace admin account will required the following permissions:\n",
    "- Personal Access Tokens\n",
    "- Workspace visibility Control\n",
    "- Cluster Visibility Control\n",
    "- Job Visibility Control\n",
    "- DBS File Browser\n",
    "### Workflows/Jobs Requirements\n",
    "To be able to make an estimation, each jobs need to have:\n",
    "- A scheduling configured \n",
    "- At least one successful execution in the last 60 days. \n",
    "- If runnning in staging or production mirror, it must include\n",
    "  - Same machine configuration\n",
    "  - Complete dataset\n"
   ]
  },
  {
   "cell_type": "code",
   "execution_count": 0,
   "metadata": {
    "application/vnd.databricks.v1+cell": {
     "cellMetadata": {
      "byteLimit": 2048000,
      "rowLimit": 10000
     },
     "inputWidgets": {},
     "nuid": "8261f957-f438-40f2-a441-867c0a2311a2",
     "showTitle": false,
     "tableResultSettingsMap": {},
     "title": ""
    }
   },
   "outputs": [],
   "source": [
    "!pip install tqdm\n",
    "!pip install snow-workspace-extractor"
   ]
  },
  {
   "cell_type": "markdown",
   "metadata": {
    "application/vnd.databricks.v1+cell": {
     "cellMetadata": {
      "byteLimit": 2048000,
      "rowLimit": 10000
     },
     "inputWidgets": {},
     "nuid": "0ad1038b-473c-4eaa-89fa-e46c9acbafce",
     "showTitle": false,
     "tableResultSettingsMap": {},
     "title": ""
    }
   },
   "source": [
    "### Configure security settings."
   ]
  },
  {
   "cell_type": "code",
   "execution_count": 0,
   "metadata": {
    "application/vnd.databricks.v1+cell": {
     "cellMetadata": {
      "byteLimit": 2048000,
      "rowLimit": 10000
     },
     "inputWidgets": {},
     "nuid": "fb76c913-8d9f-4114-a4d0-b47bc5476551",
     "showTitle": false,
     "tableResultSettingsMap": {},
     "title": ""
    }
   },
   "outputs": [],
   "source": [
    "\n",
    "dbutils.widgets.removeAll()\n",
    "dbutils.widgets.dropdown(\"runs_for_last_days\", \"60\", [\"15\", \"30\", \"60\"])\n",
    "wkp_name_instructions = \"please write workspace name\"\n",
    "dbutils.widgets.text(\"workspace_name\", wkp_name_instructions)\n",
    "# following line tries to get the host from the current workspace, if that fails you can change it manually to your desired host.\n",
    "# host_name = \"demo.azuredatabricks.net\"\n",
    "host_name = dbutils.notebook.entry_point.getDbutils().notebook().getContext().browserHostName().get()\n",
    "url = f\"https://{host_name}/\" if host_name != '' else None\n",
    "if url is None:\n",
    "    raise Exception(\"Please provide the workspace url available in your address bar in the variable 'url' i.e. 'https://demo.azuredatabricks.net/'\")\n",
    "# Following line tries to get the token of the current notebook if that fails you can change it manually as in the example below.\n",
    "# We advise against using an explicit token. Please store it in a secret scope.\n",
    "# token = dbutils.secrets.get(scope='my-secrets', key='workload-query')\n",
    "token = dbutils.notebook.entry_point.getDbutils().notebook().getContext().apiToken().get()\n",
    "if token == '' or token is None:\n",
    "    raise Exception(\"Please provide a token to query Databricks API. Please define it in the variable 'token'.\")\n",
    "workspace_name = dbutils.widgets.get('workspace_name')\n",
    "workspace_name = 'workspace_name' if dbutils.widgets.get('workspace_name') == wkp_name_instructions else workspace_name\n",
    "days = int(dbutils.widgets.get('runs_for_last_days'))"
   ]
  },
  {
   "cell_type": "code",
   "execution_count": 0,
   "metadata": {
    "application/vnd.databricks.v1+cell": {
     "cellMetadata": {
      "byteLimit": 2048000,
      "rowLimit": 10000
     },
     "inputWidgets": {},
     "nuid": "9683b0a0-9e16-4a4d-8d77-881b5ed5dc01",
     "showTitle": false,
     "tableResultSettingsMap": {},
     "title": ""
    }
   },
   "outputs": [],
   "source": [
    "import shutil\n",
    "import random\n",
    "api_util = Util()\n",
    "tmp_folder ='%05x' % random.randrange(16**5)\n",
    "tmp_driver = f'file:///tmp/{tmp_folder}/'\n",
    "filename = api_util.get_file_name(workspace_name)\n",
    "driver_zip_filename = f'/tmp/{filename}'\n",
    "driver_to_zip = f'/tmp/{tmp_folder}/'\n",
    "driver_folder = f'file:///tmp/{tmp_folder}' \n",
    "\n",
    "\n",
    "dbutils.fs.mkdirs(tmp_driver)\n",
    "client = Sizing(url, token, driver_to_zip)\n",
    "client.get_metadata(days)\n",
    "client.show_results(days)\n",
    "\n",
    "compress_file_path = api_util.compress_folder_to_zip(driver_to_zip, driver_zip_filename, extension=\"zip\", split_size_mb=1)\n",
    "_, compress_file_name, _, _ = api_util.get_path_separated(compress_file_path)\n",
    "\n",
    "zip_path = f'file:///tmp/{compress_file_name}'\n",
    "zip_destination = 'dbfs:/FileStore/WAS_Tool/results'\n",
    "dbutils.fs.mkdirs(zip_destination)\n",
    "dbutils.fs.cp(zip_path, zip_destination)"
   ]
  },
  {
   "cell_type": "code",
   "execution_count": 0,
   "metadata": {
    "application/vnd.databricks.v1+cell": {
     "cellMetadata": {
      "byteLimit": 2048000,
      "rowLimit": 10000
     },
     "inputWidgets": {},
     "nuid": "0da93574-d6f1-444e-a9f1-90e78fb18edf",
     "showTitle": false,
     "tableResultSettingsMap": {},
     "title": ""
    }
   },
   "outputs": [],
   "source": [
    "from IPython.display import display as displayHTML, HTML\n",
    "html = f'<html><div  style=\"display:flex;justify-content: center;\"><a href=/files/WAS_Tool/results/{filename}.zip><button style=\"background-color:#249edc;color: #fff;border:1px solid #249edc;cursor:pointer;border-radius:45px;font-weight:800;line-height:18px;padding: 8px 16px\" type=\"button\">DOWNLOAD ZIP</button></a></div></html>'\n",
    "displayHTML(HTML(html))\n",
    "print(f\"In case the download button was not being displayed, please click on the following link: {url}files/WAS_Tool/results/{filename}.zip\")\n"
   ]
  }
 ],
 "metadata": {
  "application/vnd.databricks.v1+notebook": {
   "computePreferences": null,
   "dashboards": [],
   "environmentMetadata": null,
   "inputWidgetPreferences": null,
   "language": "python",
   "notebookMetadata": {
    "pythonIndentUnit": 4
   },
   "notebookName": "Workspace Estimator",
   "widgets": {
    "runs_for_last_days": {
     "currentValue": "30",
     "nuid": "e6caf6fa-84d2-4554-9781-af758535549c",
     "typedWidgetInfo": {
      "autoCreated": false,
      "defaultValue": "60",
      "label": null,
      "name": "runs_for_last_days",
      "options": {
       "choices": [
        "15",
        "30",
        "60"
       ],
       "fixedDomain": true,
       "multiselect": false,
       "widgetDisplayType": "Dropdown"
      },
      "parameterDataType": "String"
     },
     "widgetInfo": {
      "defaultValue": "60",
      "label": null,
      "name": "runs_for_last_days",
      "options": {
       "autoCreated": null,
       "choices": [
        "15",
        "30",
        "60"
       ],
       "widgetType": "dropdown"
      },
      "widgetType": "dropdown"
     }
    },
    "workspace_name": {
     "currentValue": "please write workspace name",
     "nuid": "53383c9e-183d-4e67-97fb-6d6fed247d74",
     "typedWidgetInfo": {
      "autoCreated": false,
      "defaultValue": "please write workspace name",
      "label": null,
      "name": "workspace_name",
      "options": {
       "validationRegex": null,
       "widgetDisplayType": "Text"
      },
      "parameterDataType": "String"
     },
     "widgetInfo": {
      "defaultValue": "please write workspace name",
      "label": null,
      "name": "workspace_name",
      "options": {
       "autoCreated": null,
       "validationRegex": null,
       "widgetType": "text"
      },
      "widgetType": "text"
     }
    }
   }
  },
  "language_info": {
   "name": "python"
  }
 },
 "nbformat": 4,
 "nbformat_minor": 0
}
